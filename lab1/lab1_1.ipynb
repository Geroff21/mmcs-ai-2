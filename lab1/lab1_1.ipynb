{
 "cells": [
  {
   "cell_type": "markdown",
   "id": "14f66efb-bab7-4c32-b4e3-c2e83dd0aabe",
   "metadata": {},
   "source": [
    "## Лабораторная 1"
   ]
  },
  {
   "cell_type": "code",
   "execution_count": 29,
   "id": "6378f5f1-ec0f-4d10-baba-3a4cf5da8316",
   "metadata": {},
   "outputs": [],
   "source": [
    "import torch\n",
    "from torch import nn\n",
    "from torch.nn.parameter import Parameter\n",
    "import torch.optim as optim\n",
    "from torch.utils.data import DataLoader\n",
    "from torchvision import datasets\n",
    "from torchvision.transforms import v2\n",
    "from torchvision.transforms import ToTensor\n",
    "import numpy as np\n",
    "\n",
    "import matplotlib.pyplot as plt\n",
    "from torchvision.transforms.functional import to_pil_image"
   ]
  },
  {
   "cell_type": "code",
   "execution_count": 30,
   "id": "d201f72c-4168-4c70-add8-7e7096d61045",
   "metadata": {},
   "outputs": [],
   "source": [
    "#Подготовка изображений под аугментацию\n",
    "\n",
    "import os\n",
    "from PIL import Image, ImageOps\n",
    "\n",
    "# Функция для добавления белого фона, инвертирования и сохранения изображения\n",
    "def add_white_background_invert_and_save(input_dir, output_dir):\n",
    "    if not os.path.exists(output_dir):\n",
    "        os.makedirs(output_dir)\n",
    "    \n",
    "    # Проходим по всем изображениям в input_dir\n",
    "    for root, _, files in os.walk(input_dir):\n",
    "        for file in files:\n",
    "            if file.endswith(('.png', '.jpg', '.jpeg')):\n",
    "                img_path = os.path.join(root, file)\n",
    "                image = Image.open(img_path)\n",
    "                \n",
    "                # Если изображение в RGBA (есть альфа-канал)\n",
    "                if image.mode == 'RGBA':\n",
    "                    background = Image.new('RGB', image.size, (255, 255, 255))\n",
    "                    background.paste(image, (0, 0), image)\n",
    "                    image = background\n",
    "                \n",
    "                # Инвертируем изображение\n",
    "                inverted_image = ImageOps.invert(image)\n",
    "\n",
    "                # Сохраняем изображение в output_dir\n",
    "                output_image_path = os.path.join(output_dir, file)\n",
    "                inverted_image.save(output_image_path)"
   ]
  },
  {
   "cell_type": "code",
   "execution_count": 34,
   "id": "22e0f595-b939-4372-8597-0bc146a110bf",
   "metadata": {},
   "outputs": [],
   "source": [
    "#Аугментация\n",
    "\n",
    "import os\n",
    "import random\n",
    "from PIL import Image\n",
    "from torchvision import transforms\n",
    "\n",
    "# Определяем набор трансформаций для аугментации\n",
    "transformations = transforms.Compose([\n",
    "    transforms.RandomRotation(15),         # Повороты до 15 градусов\n",
    "    transforms.RandomAffine(0, translate=(0.1, 0.1)),  # Сдвиги по осям\n",
    "    #transforms.RandomHorizontalFlip(),     # Горизонтальные отражения\n",
    "    transforms.ColorJitter(brightness=0.2, contrast=0.2),  # Изменение яркости/контраста\n",
    "])\n",
    "\n",
    "def augment(input_folder, output_folder, augment_factor):\n",
    "    \n",
    "    # Для каждого изображения в оригинальном наборе данных\n",
    "    for filename in os.listdir(input_folder):\n",
    "        if filename.endswith('.png') or filename.endswith('.jpg'):\n",
    "            # Загружаем изображение\n",
    "            img_path = os.path.join(input_folder, filename)\n",
    "            image = Image.open(img_path)\n",
    "    \n",
    "            # Сохраняем оригинал в папку (если нужно)\n",
    "            base_name, ext = os.path.splitext(filename)\n",
    "            original_save_path = os.path.join(output_folder, f\"{base_name}_{ext}\")\n",
    "            image.save(original_save_path)\n",
    "    \n",
    "            # Генерируем несколько аугментированных изображений\n",
    "            for i in range(augment_factor):\n",
    "                augmented_image = transformations(image)  # Применяем трансформации\n",
    "                augmented_save_path = os.path.join(output_folder, f\"{base_name}_{i}{ext}\")\n",
    "                augmented_image.save(augmented_save_path)"
   ]
  },
  {
   "cell_type": "code",
   "execution_count": 32,
   "id": "773c49fc-91ae-44f4-a909-ebcdb7d107c1",
   "metadata": {},
   "outputs": [],
   "source": [
    "#Обработка\n",
    "\n",
    "for i in range(1,6):\n",
    "    input_folder_train = 'data/geroff_dataset/train/' + str(i)\n",
    "    add_white_background_invert_and_save(input_folder_train, input_folder_train)\n",
    "\n",
    "    input_folder_test = 'data/geroff_dataset/test/' + str(i)\n",
    "    add_white_background_invert_and_save(input_folder_test, input_folder_test)\n"
   ]
  },
  {
   "cell_type": "code",
   "execution_count": 35,
   "id": "2631a7f3-4adc-40eb-a288-c8dd01b081b5",
   "metadata": {},
   "outputs": [],
   "source": [
    "#Аугмент\n",
    "\n",
    "# Количество аугментированных изображений на одно оригинальное\n",
    "augment_factor = 4  # Увеличиваем до 10 изображений на каждое оригинальное\n",
    "\n",
    "for i in range(1,6):\n",
    "    input_folder_train = 'data/geroff_dataset/train/' + str(i)\n",
    "    augment(input_folder_train, input_folder_train,augment_factor)\n",
    "\n",
    "    input_folder_test = 'data/geroff_dataset/test/' + str(i)\n",
    "    augment(input_folder_test, input_folder_test,augment_factor)"
   ]
  },
  {
   "cell_type": "code",
   "execution_count": 36,
   "id": "3293ad15-f084-42e7-b9fc-dd7d42477498",
   "metadata": {},
   "outputs": [
    {
     "name": "stdout",
     "output_type": "stream",
     "text": [
      "Классы: ['1', '2', '3', '4', '5']\n"
     ]
    }
   ],
   "source": [
    "import torch\n",
    "from torchvision import datasets, transforms\n",
    "from torch.utils.data import DataLoader\n",
    "\n",
    "#Работа по датасетам\n",
    "\n",
    "transform_train = transforms.Compose([\n",
    "    transforms.ToTensor(),\n",
    "])\n",
    "\n",
    "transform_test = transforms.Compose([\n",
    "    transforms.ToTensor(),\n",
    "])\n",
    "\n",
    "# Загрузка данных (train и test)\n",
    "train_data = datasets.ImageFolder(root='data/geroff_dataset/train', transform=transform_train)\n",
    "test_data = datasets.ImageFolder(root='data/geroff_dataset/test', transform=transform_test)\n",
    "\n",
    "# Создание DataLoader для батчевой загрузки данных\n",
    "train_loader = DataLoader(train_data, batch_size=32, shuffle=True)\n",
    "test_loader = DataLoader(test_data, batch_size=32, shuffle=False)\n",
    "\n",
    "# Получим количество классов (например, римские цифры от I до X)\n",
    "num_classes = len(train_data.classes)\n",
    "class_names = train_data.classes\n",
    "print(\"Классы:\", train_data.classes)"
   ]
  },
  {
   "cell_type": "code",
   "execution_count": 37,
   "id": "b18e05ae-402a-4df8-9dff-97d2c68b2524",
   "metadata": {},
   "outputs": [
    {
     "name": "stdout",
     "output_type": "stream",
     "text": [
      "Класс: 2\n"
     ]
    },
    {
     "data": {
      "image/png": "[encoded data removed]",
      "text/plain": [
       "<Figure size 640x480 with 1 Axes>"
      ]
     },
     "metadata": {},
     "output_type": "display_data"
    },
    {
     "name": "stdout",
     "output_type": "stream",
     "text": [
      "Класс: 3\n"
     ]
    },
    {
     "data": {
      "image/png": "[encoded data removed]",
      "text/plain": [
       "<Figure size 640x480 with 1 Axes>"
      ]
     },
     "metadata": {},
     "output_type": "display_data"
    }
   ],
   "source": [
    "# Функция для отображения изображений\n",
    "def imshow(img, title=None):\n",
    "    img = img.numpy().transpose((1, 2, 0)) \n",
    "    img = np.clip(img, 0, 1) \n",
    "    plt.imshow(img)\n",
    "    if title:\n",
    "        plt.title(title)\n",
    "    plt.axis('off')\n",
    "    plt.show()\n",
    "\n",
    "# Отобразим несколько случайных изображений из train_loader\n",
    "data_iter = iter(train_loader)\n",
    "images, labels = next(data_iter)  # Получаем первый батч\n",
    "\n",
    "#Показать 4 изображения из батча\n",
    "for i in range(2):\n",
    "    img = images[i].cpu()  # Переносим изображение на CPU для отображения\n",
    "    label = labels[i].item()\n",
    "    class_name = class_names[label]  # Получаем название класса\n",
    "\n",
    "    print(f'Класс: {class_name}')  # Печатаем класс\n",
    "    imshow(img, title=class_name)  # Отображаем изображение с меткой класса"
   ]
  },
  {
   "cell_type": "code",
   "execution_count": 1,
   "id": "27c3b444-5f8f-4f09-8767-538664a4e9fd",
   "metadata": {},
   "outputs": [
    {
     "ename": "TypeError",
     "evalue": "SimpleNN.__init_subclass__() takes no keyword arguments",
     "output_type": "error",
     "traceback": [
      "\u001b[1;31m---------------------------------------------------------------------------\u001b[0m",
      "\u001b[1;31mTypeError\u001b[0m                                 Traceback (most recent call last)",
      "Cell \u001b[1;32mIn[1], line 7\u001b[0m\n\u001b[0;32m      4\u001b[0m device \u001b[38;5;241m=\u001b[39m torch\u001b[38;5;241m.\u001b[39mdevice(\u001b[38;5;124m\"\u001b[39m\u001b[38;5;124mcuda\u001b[39m\u001b[38;5;124m\"\u001b[39m \u001b[38;5;28;01mif\u001b[39;00m torch\u001b[38;5;241m.\u001b[39mcuda\u001b[38;5;241m.\u001b[39mis_available() \u001b[38;5;28;01melse\u001b[39;00m \u001b[38;5;124m\"\u001b[39m\u001b[38;5;124mcpu\u001b[39m\u001b[38;5;124m\"\u001b[39m)\n\u001b[0;32m      5\u001b[0m input_size \u001b[38;5;241m=\u001b[39m \u001b[38;5;241m64\u001b[39m \u001b[38;5;241m*\u001b[39m \u001b[38;5;241m64\u001b[39m \u001b[38;5;241m*\u001b[39m \u001b[38;5;241m3\u001b[39m  \u001b[38;5;66;03m# 12288\u001b[39;00m\n\u001b[1;32m----> 7\u001b[0m \u001b[38;5;28;43;01mclass\u001b[39;49;00m\u001b[43m \u001b[49m\u001b[38;5;21;43;01mSimpleNN\u001b[39;49;00m\u001b[43m(\u001b[49m\u001b[43mnn\u001b[49m\u001b[38;5;241;43m.\u001b[39;49m\u001b[43mModule\u001b[49m\u001b[43m,\u001b[49m\u001b[43m \u001b[49m\u001b[43mnum_classes\u001b[49m\u001b[38;5;241;43m=\u001b[39;49m\u001b[38;5;241;43m5\u001b[39;49m\u001b[43m)\u001b[49m\u001b[43m:\u001b[49m\n\u001b[0;32m      8\u001b[0m \u001b[43m    \u001b[49m\u001b[38;5;28;43;01mdef\u001b[39;49;00m\u001b[43m \u001b[49m\u001b[38;5;21;43m__init__\u001b[39;49m\u001b[43m(\u001b[49m\u001b[38;5;28;43mself\u001b[39;49m\u001b[43m)\u001b[49m\u001b[43m:\u001b[49m\n\u001b[0;32m      9\u001b[0m \u001b[43m        \u001b[49m\u001b[38;5;28;43msuper\u001b[39;49m\u001b[43m(\u001b[49m\u001b[43mSimpleNN\u001b[49m\u001b[43m,\u001b[49m\u001b[43m \u001b[49m\u001b[38;5;28;43mself\u001b[39;49m\u001b[43m)\u001b[49m\u001b[38;5;241;43m.\u001b[39;49m\u001b[38;5;21;43m__init__\u001b[39;49m\u001b[43m(\u001b[49m\u001b[43m)\u001b[49m\n",
      "\u001b[1;31mTypeError\u001b[0m: SimpleNN.__init_subclass__() takes no keyword arguments"
     ]
    }
   ],
   "source": [
    "import torch\n",
    "import torch.nn as nn\n",
    "\n",
    "device = torch.device(\"cuda\" if torch.cuda.is_available() else \"cpu\")\n",
    "input_size = 64 * 64 * 3  # 12288\n",
    "\n",
    "class SimpleNN(nn.Module):\n",
    "    def __init__(self):\n",
    "        super(SimpleNN, self).__init__()\n",
    "        self.fc1 = nn.Linear(64 * 64 * 3, 512)  # Входной слой для 3 каналов (RGB)\n",
    "        self.fc2 = nn.Linear(512, 128)\n",
    "        self.fc3 = nn.Linear(128, num_classes)  # Количество классов\n",
    "\n",
    "    def forward(self, x):\n",
    "        x = x.view(-1, 64 * 64 * 3)  # Преобразуем изображения в вектор\n",
    "        x = torch.relu(self.fc1(x))  # Применяем ReLU\n",
    "        x = torch.relu(self.fc2(x))\n",
    "        x = self.fc3(x)  # Последний слой (выходной)\n",
    "        return x\n",
    "\n",
    "# Создаем модель\n",
    "model = SimpleNN().to(device)\n",
    "\n",
    "# Определяем функцию потерь и оптимизатор\n",
    "criterion = nn.CrossEntropyLoss()  # Кросс-энтропия для многоклассовой классификации\n",
    "optimizer = optim.Adam(model.parameters(), lr=0.001)\n"
   ]
  },
  {
   "cell_type": "code",
   "execution_count": 66,
   "id": "1b5d21fb-fdcd-46df-b955-45b6c6abcdd9",
   "metadata": {},
   "outputs": [
    {
     "name": "stdout",
     "output_type": "stream",
     "text": [
      "Эпоха [1/7], Средняя потеря: 0.4564\n",
      "Точность модели на тестовых данных: 90.00%\n",
      "Эпоха [2/7], Средняя потеря: 0.0896\n",
      "Точность модели на тестовых данных: 91.67%\n",
      "Эпоха [3/7], Средняя потеря: 0.0340\n",
      "Точность модели на тестовых данных: 95.83%\n",
      "Эпоха [4/7], Средняя потеря: 0.0257\n",
      "Точность модели на тестовых данных: 95.00%\n",
      "Эпоха [5/7], Средняя потеря: 0.0248\n",
      "Точность модели на тестовых данных: 95.00%\n",
      "Эпоха [6/7], Средняя потеря: 0.0364\n",
      "Точность модели на тестовых данных: 93.33%\n",
      "Эпоха [7/7], Средняя потеря: 0.0148\n",
      "Точность модели на тестовых данных: 97.08%\n",
      "Лучший результат на тесте: 97.08%\n"
     ]
    }
   ],
   "source": [
    "import torch\n",
    "\n",
    "def evaluate_accuracy(model, test_loader, device):\n",
    "    model.eval()  # Переводим модель в режим оценки\n",
    "    correct_predictions = 0\n",
    "    total_images = 0\n",
    "    \n",
    "    with torch.no_grad():  # Выключаем градиенты, чтобы ускорить процесс\n",
    "        for images, labels in test_loader:\n",
    "            images, labels = images.to(device), labels.to(device)\n",
    "            outputs = model(images)\n",
    "            _, predicted = torch.max(outputs, 1)\n",
    "            correct_predictions += (predicted == labels).sum().item()\n",
    "            total_images += labels.size(0)\n",
    "    \n",
    "    accuracy = (correct_predictions / total_images) * 100  # Точность в процентах\n",
    "    return accuracy\n",
    "\n",
    "# Определяем функцию потерь и оптимизатор\n",
    "criterion = nn.CrossEntropyLoss()  # Кросс-энтропия для многоклассовой классификации\n",
    "optimizer = optim.Adam(model.parameters(), lr=0.001, weight_decay=1e-5)\n",
    "\n",
    "# Обучение модели\n",
    "num_epochs = 7  # Количество эпох\n",
    "best_accuracy = 0.0  # Начальная лучшая точность\n",
    "best_model_wts = None  # Лучшие веса модели\n",
    "\n",
    "for epoch in range(num_epochs):\n",
    "    model.train()  # Переводим модель в режим тренировки\n",
    "    running_loss = 0.0\n",
    "\n",
    "    for batch_idx, (inputs, labels) in enumerate(train_loader):\n",
    "        inputs = inputs.view(-1, input_size).to(device)\n",
    "        labels = labels.to(device)\n",
    "        \n",
    "        optimizer.zero_grad()  # Обнуляем градиенты\n",
    "        outputs = model(inputs)  # Прямой проход (forward)\n",
    "        loss = criterion(outputs, labels)  # Вычисляем loss\n",
    "        loss.backward()  # Обратный проход (backward)\n",
    "        optimizer.step()  # Обновляем веса\n",
    "\n",
    "        running_loss += loss.item()\n",
    "\n",
    "    print(f\"Эпоха [{epoch + 1}/{num_epochs}], Средняя потеря: {running_loss / len(train_loader):.4f}\")\n",
    "\n",
    "    # Оценка точности на тестовых данных после каждой эпохи\n",
    "    accuracy = evaluate_accuracy(model, test_loader, device)\n",
    "    print(f\"Точность модели на тестовых данных: {accuracy:.2f}%\")\n",
    "\n",
    "    # Сохраняем лучшую модель, если текущая точность лучше предыдущей\n",
    "    if accuracy > best_accuracy:\n",
    "        best_accuracy = accuracy\n",
    "        best_model_wts = model.state_dict()  # Сохраняем веса модели\n",
    "\n",
    "# Восстановление лучшей модели после обучения\n",
    "model.load_state_dict(best_model_wts)\n",
    "print(f\"Лучший результат на тесте: {best_accuracy:.2f}%\")\n"
   ]
  },
  {
   "cell_type": "code",
   "execution_count": 68,
   "id": "04244858-d191-4982-b19a-4d8c2a034d31",
   "metadata": {},
   "outputs": [],
   "source": [
    "import random\n",
    "import matplotlib.pyplot as plt\n",
    "import torch\n",
    "\n",
    "# Функция для отображения изображения с уменьшенным размером\n",
    "def imshow(img, title=None, figsize=(5, 5)):\n",
    "    img = img.numpy().transpose((1, 2, 0))  # Переводим из [C, H, W] в [H, W, C]\n",
    "    img = np.clip(img, 0, 1)  # Убедимся, что пиксели в диапазоне [0, 1]\n",
    "    \n",
    "    plt.figure(figsize=figsize)  # Устанавливаем размер окна\n",
    "    plt.imshow(img)\n",
    "    if title:\n",
    "        plt.title(title)\n",
    "    plt.axis('off')\n",
    "    plt.show()\n",
    "\n",
    "# Функция для вывода 4 случайных изображений (по одному из каждого класса) и вычисления точности\n",
    "def show_random_images_from_all_classes(model, test_loader, class_names, num_images_per_class=2):\n",
    "    model.eval()  # Переводим модель в режим оценки (inference)\n",
    "    \n",
    "    # Словарь для хранения изображений по каждому классу\n",
    "    class_images = {class_name: [] for class_name in class_names}\n",
    "    \n",
    "    correct_predictions = 0\n",
    "    total_images = 0\n",
    "    \n",
    "    # Перебираем все изображения из test_loader\n",
    "    for images, labels in test_loader:\n",
    "        images, labels = images.to(device), labels.to(device)\n",
    "        \n",
    "        # Собираем изображения по классу\n",
    "        for i, label in enumerate(labels):\n",
    "            class_name = class_names[label.item()]\n",
    "            class_images[class_name].append((images[i], label))\n",
    "        \n",
    "        # Прогоняем изображения через модель и вычисляем точность\n",
    "        outputs = model(images)\n",
    "        _, predicted = torch.max(outputs, 1)\n",
    "    \n",
    "    # Выбираем случайные изображения из каждого класса\n",
    "    selected_images = []\n",
    "    for class_name, images in class_images.items():\n",
    "        # Выбираем случайное изображение из этого класса\n",
    "        image, label = random.choice(images)\n",
    "        selected_images.append((image, label, class_name))\n",
    "    \n",
    "    # Прогоняем изображения через модель и отображаем\n",
    "    for img, label, class_name in selected_images:\n",
    "        # Получаем предсказание модели\n",
    "        output = model(img.unsqueeze(0).to(device))  # Добавляем размер batch\n",
    "        _, predicted = torch.max(output, 1)\n",
    "        predicted_class_name = class_names[predicted.item()]\n",
    "        \n",
    "        # Отображаем изображение с метками\n",
    "        print(f'Истинная метка: {class_name}, Предсказанная метка: {predicted_class_name}')\n",
    "        imshow(img.cpu(), title=f'Predicted: {predicted_class_name}, True: {class_name}', figsize=(3, 3))\n",
    "\n",
    "# Выводим случайные изображения из каждого класса с их предсказаниями\n",
    "show_random_images_from_all_classes(model, test_loader, class_names, num_images_per_class=2)\n",
    "\n"
   ]
  },
  {
   "cell_type": "code",
   "execution_count": 69,
   "id": "5be48b5b-d955-431d-b039-e6601feca31c",
   "metadata": {},
   "outputs": [
    {
     "name": "stdout",
     "output_type": "stream",
     "text": [
      "Истинная метка: 1, Предсказанная метка: 1\n"
     ]
    },
    {
     "data": {
      "image/png": "[encoded data removed]",
      "text/plain": [
       "<Figure size 300x300 with 1 Axes>"
      ]
     },
     "metadata": {},
     "output_type": "display_data"
    },
    {
     "name": "stdout",
     "output_type": "stream",
     "text": [
      "Истинная метка: 2, Предсказанная метка: 2\n"
     ]
    },
    {
     "data": {
      "image/png": "[encoded data removed]",
      "text/plain": [
       "<Figure size 300x300 with 1 Axes>"
      ]
     },
     "metadata": {},
     "output_type": "display_data"
    },
    {
     "name": "stdout",
     "output_type": "stream",
     "text": [
      "Истинная метка: 3, Предсказанная метка: 3\n"
     ]
    },
    {
     "data": {
      "image/png": "[encoded data removed]",
      "text/plain": [
       "<Figure size 300x300 with 1 Axes>"
      ]
     },
     "metadata": {},
     "output_type": "display_data"
    },
    {
     "name": "stdout",
     "output_type": "stream",
     "text": [
      "Истинная метка: 4, Предсказанная метка: 4\n"
     ]
    },
    {
     "data": {
      "image/png": "[encoded data removed]",
      "text/plain": [
       "<Figure size 300x300 with 1 Axes>"
      ]
     },
     "metadata": {},
     "output_type": "display_data"
    },
    {
     "name": "stdout",
     "output_type": "stream",
     "text": [
      "Истинная метка: 5, Предсказанная метка: 5\n"
     ]
    },
    {
     "data": {
      "image/png": "[encoded data removed]",
      "text/plain": [
       "<Figure size 300x300 with 1 Axes>"
      ]
     },
     "metadata": {},
     "output_type": "display_data"
    }
   ],
   "source": [
    "\n",
    "# Выводим случайные изображения из каждого класса с их предсказаниями\n",
    "show_random_images_from_all_classes(model, test_loader, class_names, num_images_per_class=2)"
   ]
  },
  {
   "cell_type": "code",
   "execution_count": null,
   "id": "3ac407db-83b6-4be5-a571-fff8ff7196fb",
   "metadata": {},
   "outputs": [],
   "source": []
  }
 ],
 "metadata": {
  "kernelspec": {
   "display_name": "Python 3 (ipykernel)",
   "language": "python",
   "name": "python3"
  },
  "language_info": {
   "codemirror_mode": {
    "name": "ipython",
    "version": 3
   },
   "file_extension": ".py",
   "mimetype": "text/x-python",
   "name": "python",
   "nbconvert_exporter": "python",
   "pygments_lexer": "ipython3",
   "version": "3.11.4"
  }
 },
 "nbformat": 4,
 "nbformat_minor": 5
}
